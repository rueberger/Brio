{
 "cells": [
  {
   "cell_type": "code",
   "execution_count": 2,
   "metadata": {
    "collapsed": true
   },
   "outputs": [],
   "source": [
    "%matplotlib inline\n",
    "import matplotlib.pyplot as plt"
   ]
  },
  {
   "cell_type": "markdown",
   "metadata": {},
   "source": [
    "# A short interactive guide to brio\n",
    "\n",
    "In this example we will construct SAILnet (Zylderberg et al, 2011), a simple network for performing sparse inference with local learning rules.\n",
    "\n",
    "SAILnet consists of a single layer of leaky integrate and fire neurons that receive input from a stimulus (an image in this case) and send inhibition to each other. \n",
    "\n",
    "## brio architecture\n",
    "\n",
    "All networks in brio are made out of two elements: Layers and Connections. \n",
    "\n",
    "A Layer holds state for a population of neurons. Layers can be excitatory, inhibitory or neither. The Layer class does not implement a specific neural model, giving significant wigggle room to subclasses. Implemented sublcasses include neural models for discrete LIF neurons and Boltzmann Machines.\n",
    "\n",
    "Connection objects hold state for the weights connecting Layers. By design, Connection objects only have access to information about the Layers they connect, thus the learning rules implemented by Connection subclasses are necessarily local. \n",
    "\n",
    "Network objects hold pointers to the comprising Layers and Connections in addition to global utility methods to train the network and display progress plots.\n",
    "\n",
    "Although brio is primarily an experimental platform and was designed to support arbitrary network topologies with SAILnet-like models, it has significant utility as a general purpose neural network library. \n",
    "\n",
    "## Instantiating networks in brio\n",
    "\n",
    "To build a network in brio, first instantiate the different layers that are part of the network. \n",
    "\n",
    "For SAILnet we need two layers: an input layer whose only role is to hold the input stimuli, and a LIF layer. Let's create them:"
   ]
  },
  {
   "cell_type": "code",
   "execution_count": 3,
   "metadata": {
    "collapsed": true
   },
   "outputs": [],
   "source": [
    "from brio.blocks import layer\n",
    "\n",
    "# creates an InputLayer with 17**2 neurons\n",
    "input_layer = layer.InputLayer(17**2, label='input layer')\n",
    "\n",
    "# creates a LIFLayer with 20**2 neurons\n",
    "lif_layer = layer.LIFLayer(20**2, label='lif layer')"
   ]
  },
  {
   "cell_type": "markdown",
   "metadata": {},
   "source": [
    "The size of Layers must be specified when instantiated. Additionally several optional paramaters may be passed specifying a label, layer type (unconstrained (default), excitatory, inhibitory) or various flags. Subclasses may take additional parameters. Refer to the Layer docstring for details.\n",
    "\n",
    "The next step is to specify the connectivity structure of the network by instantiating the required Connections. \n",
    "\n",
    "SAILnet has two connections: a feedforward connection from the input to the LIF population and a recurrent connection on the LIF population. The former updates its set of weights using Oja's rule whereas the latter uses Foldiak's rule."
   ]
  },
  {
   "cell_type": "code",
   "execution_count": 4,
   "metadata": {
    "collapsed": true
   },
   "outputs": [],
   "source": [
    "from brio.blocks import connection\n",
    "\n",
    "ffwd_con = connection.OjaConnection(input_layer, lif_layer, label='ffwd connection')\n",
    "recrnt_con = connection.FoldiakConnection(lif_layer, lif_layer, label='recrnt connection')"
   ]
  },
  {
   "cell_type": "markdown",
   "metadata": {},
   "source": [
    "An input layer and output layer must be passed when instantiating connection objects. Optionally and additionally one may pass a label, a learning rate multiplier, and toggle to select a weight instantiation scheme. \n",
    "\n",
    "The last step to creating a network is to pass the layers to a Network object."
   ]
  },
  {
   "cell_type": "code",
   "execution_count": 6,
   "metadata": {
    "collapsed": false
   },
   "outputs": [],
   "source": [
    "from brio.blocks.network import Network\n",
    "from brio.blocks.aux import NetworkParams\n",
    "\n",
    "# Network.__init__ expects a list of Layer objects\n",
    "layers = [input_layer, lif_layer]\n",
    "\n",
    "sailnet = Network(layers, params=NetworkParams())"
   ]
  },
  {
   "cell_type": "markdown",
   "metadata": {},
   "source": [
    "There are two things to notice here:\n",
    "\n",
    "Firstly, that I did not pass the connections to Network! This is not necessary as Connections add pointers to themselves to the Layers they connect when instantiated. Thus the network graph is stored in a decentralized fashion as a graph of pointers. \n",
    "\n",
    "Secondly, that I pass a NetworkParams object to Network. This object is nothing more than a dumb container class, designed to store global parameters. \n",
    "\n",
    "## Training networks\n",
    "\n",
    "We can now begin training the model we have built. In this case we will train our model on a set of whitened natural scenes included in the repo for convenience."
   ]
  },
  {
   "cell_type": "code",
   "execution_count": 7,
   "metadata": {
    "collapsed": false
   },
   "outputs": [
    {
     "name": "stdout",
     "output_type": "stream",
     "text": [
      "Training iteration: 100 \n",
      "\n",
      "Average firing rates:\n",
      "lif layer: 0.0\n",
      "\n",
      "====================================================================================================\n",
      "\n",
      "\n",
      "\n",
      "Training iteration: 200 \n",
      "\n",
      "Average firing rates:\n",
      "lif layer: 0.0\n",
      "\n",
      "====================================================================================================\n",
      "\n",
      "\n",
      "\n",
      "Training iteration: 300 \n",
      "\n",
      "Average firing rates:\n",
      "lif layer: 0.0435196078431\n",
      "\n",
      "====================================================================================================\n",
      "\n",
      "\n",
      "\n",
      "Training iteration: 400 \n",
      "\n",
      "Average firing rates:\n",
      "lif layer: 7.8444754902\n",
      "\n",
      "====================================================================================================\n",
      "\n",
      "\n",
      "\n",
      "Training iteration: 500 \n",
      "\n",
      "Average firing rates:\n",
      "lif layer: 9.13851960784\n",
      "\n",
      "====================================================================================================\n",
      "\n",
      "\n",
      "\n",
      "Training iteration: 600 \n",
      "\n",
      "Average firing rates:\n",
      "lif layer: 9.21358333333\n",
      "\n",
      "====================================================================================================\n",
      "\n",
      "\n",
      "\n",
      "Training iteration: 700 \n",
      "\n",
      "Average firing rates:\n",
      "lif layer: 8.30045098039\n",
      "\n",
      "====================================================================================================\n",
      "\n",
      "\n",
      "\n",
      "Training iteration: 800 \n",
      "\n",
      "Average firing rates:\n",
      "lif layer: 8.45306862745\n",
      "\n",
      "====================================================================================================\n",
      "\n",
      "\n",
      "\n",
      "Training iteration: 900 \n",
      "\n",
      "Average firing rates:\n",
      "lif layer: 6.77806372549\n",
      "\n",
      "====================================================================================================\n",
      "\n",
      "\n",
      "\n",
      "Training iteration: 1000 \n",
      "\n",
      "Average firing rates:\n",
      "lif layer: 7.43371078431\n",
      "\n",
      "Weight distribution for recrnt connection\n",
      "0.9 |                                                                                                     \n",
      "0.8 |                                                                                                     \n",
      "0.7 |                                                                                                     \n",
      "0.6 |                                                                                                     \n",
      "0.5 |                                                                 *** *** *** ***                     \n",
      "0.4 |                                                         *** *** *** *** *** *** ***                 \n",
      "0.3 |                                                 *** *** *** *** *** *** *** *** *** ***             \n",
      "0.2 |                                             *** *** *** *** *** *** *** *** *** *** *** ***         \n",
      "0.1 |                                         *** *** *** *** *** *** *** *** *** *** *** *** *** ***     \n",
      "0.0 | *** *** *** *** *** *** *** *** *** *** *** *** *** *** *** *** *** *** *** *** *** *** *** *** *** \n",
      "    ----------------------------------------------------------------------------------------------------\n",
      " 4.50                                                6.66                                                8.99\n",
      "\n",
      " \n",
      "\n",
      "Weight distribution for ffwd connection\n",
      "0.9 | ***                                         *** *** ***                                         *** \n",
      "0.8 | ***                                         *** *** ***                                         *** \n",
      "0.7 | ***                                         *** *** ***                                         *** \n",
      "0.6 | *** ***                                     *** *** ***                                     *** *** \n",
      "0.5 | *** ***                                     *** *** ***                                     *** *** \n",
      "0.4 | *** ***                                     *** *** ***                                     *** *** \n",
      "0.3 | *** *** *** ***                         *** *** *** *** ***                         *** *** *** *** \n",
      "0.2 | *** *** *** *** *** ***                 *** *** *** *** ***                 *** *** *** *** *** *** \n",
      "0.1 | *** *** *** *** *** *** *** *** *** *** *** *** *** *** *** *** *** *** *** *** *** *** *** *** *** \n",
      "0.0 | *** *** *** *** *** *** *** *** *** *** *** *** *** *** *** *** *** *** *** *** *** *** *** *** *** \n",
      "    ----------------------------------------------------------------------------------------------------\n",
      "-1.01                                               -0.04                                                1.00\n",
      "\n",
      " \n",
      "\n",
      "====================================================================================================\n",
      "\n",
      "\n",
      "\n"
     ]
    }
   ],
   "source": [
    "from scipy.io import loadmat\n",
    "from brio.misc.patches import patch_generator\n",
    "\n",
    "data_path = \"../data/whitened_van_hateren.mat\"\n",
    "images = loadmat(data_path)[\"IMAGES\"]\n",
    "\n",
    "# trains the model on 1000 17x17 image patches extracted from the set of images\n",
    "# train expects an iterator over arrays that can be cast to the same shape as the input layer\n",
    "sailnet.train(patch_generator(images, 17, 1000))"
   ]
  },
  {
   "cell_type": "markdown",
   "metadata": {},
   "source": [
    "By default, brio prints some summary statistics as training progreses. Several more sophisticated options for online plotting of receptive fields and parameter distributions are provided in `brio.misc.plotting`, and also controlled by a toggle in Network.\n",
    "\n",
    "\n",
    "### Batch updates and built-in notion of timescale\n",
    "\n",
    "For purposes of stability and efficiency training proceeds in batches of size 100 (by default). That is, instead of being applied after each image presentation, weight updates are accumulated and applied at the end of each batch.\n",
    "\n",
    "Because brio was built as a platform primarily for experimentation with local LIF networks, a notion of timescale is built into the package. For each stimulus presentation, the network dynamics are run for a fixed number of timesteps. The network's representation for the presented stimulus is encoded in the raster of spikes over that fixed time period. \n",
    "\n",
    "For non-spiking models, the network's response over the time period has a different interpretation. For Boltzmann machines for instance, the response would be interpeted as a series of samples of the networks posterior. The number of steps can always be set to one if the network model does not admit a suitable interpretation for such dynamics. \n",
    "\n",
    "The training and inference cycle can be summarized in pseudo-code as follows:\n",
    "\n",
    "    for each batch in the stimulus set:\n",
    "        for each image in the batch:    \n",
    "            set the image as the input layer state\n",
    "            # run the network dynamics:\n",
    "            for each timestep in the epoch:\n",
    "                update the network state\n",
    "            record weight updates\n",
    "        apply accumulated weight updates\n",
    "        print summary statistics and/or plots"
   ]
  },
  {
   "cell_type": "code",
   "execution_count": null,
   "metadata": {
    "collapsed": true
   },
   "outputs": [],
   "source": []
  }
 ],
 "metadata": {
  "kernelspec": {
   "display_name": "Python 2",
   "language": "python",
   "name": "python2"
  },
  "language_info": {
   "codemirror_mode": {
    "name": "ipython",
    "version": 2
   },
   "file_extension": ".py",
   "mimetype": "text/x-python",
   "name": "python",
   "nbconvert_exporter": "python",
   "pygments_lexer": "ipython2",
   "version": "2.7.10"
  }
 },
 "nbformat": 4,
 "nbformat_minor": 0
}
